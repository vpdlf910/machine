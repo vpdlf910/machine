{
 "cells": [
  {
   "cell_type": "code",
   "execution_count": null,
   "metadata": {
    "id": "eHc2patC3eHe"
   },
   "outputs": [],
   "source": [
    "import numpy as np \n",
    "import pandas as pd \n",
    "import seaborn as sns\n",
    "import matplotlib.pyplot as plt\n",
    "import pickle\n",
    "import joblib\n",
    "import warnings\n",
    "warnings.filterwarnings(action='ignore')  \n",
    "\n",
    "train = pd.read_csv('./data/FIFA_train.csv')\n",
    "test = pd.read_csv('./data/FIFA_test.csv')\n",
    "submission  = pd.read_csv('./data/submission.csv')"
   ]
  },
  {
   "cell_type": "markdown",
   "metadata": {
    "id": "YuisAtEI3eHk"
   },
   "source": [
    "## 간단한 전처리"
   ]
  },
  {
   "cell_type": "markdown",
   "metadata": {
    "id": "2Lxqqdta3eHn"
   },
   "source": [
    "##### contract_until 변수 int 형으로 변환\n",
    "##### 계약 연도만 추출\n",
    "def func(string):\n",
    "    string = string[-4:]\n",
    "    return int(string)\n",
    "\n",
    "train['contract_until'] = train['contract_until'].apply(func)\n",
    "test['contract_until'] = test['contract_until'].apply(func)"
   ]
  },
  {
   "cell_type": "markdown",
   "metadata": {
    "id": "eJwzMNVi3eHo"
   },
   "source": [
    "feature=['age', 'continent', 'contract_until', 'position',\n",
    "       'prefer_foot', 'reputation', 'stat_overall', 'stat_potential',\n",
    "       'stat_skill_moves']\n",
    "x_train = train[feature]\n",
    "y_train = train['value']\n",
    "x_test = test[feature]"
   ]
  },
  {
   "cell_type": "markdown",
   "metadata": {
    "id": "lviaYBPT3eHp"
   },
   "source": [
    "- 밑은 log를 쓰는 전처리 입니다. 원본은 위의 전처리를 코드로 돌리시고 밑은 싹 마크다운하세요"
   ]
  },
  {
   "cell_type": "code",
   "execution_count": null,
   "metadata": {
    "id": "Xxzmonm63eHq"
   },
   "outputs": [],
   "source": [
    "def con_period(x):\n",
    "    if x == 'Dec 31, 2018' :\n",
    "        return '2019'\n",
    "    elif x == 'Jun 30, 2020' :\n",
    "        return '2020.5'\n",
    "    elif x == 'Jun 30, 2019' :\n",
    "        return '2019.5'\n",
    "    elif x == 'May 31, 2020' :\n",
    "        return '2020.3333'\n",
    "    elif x == 'May 31, 2019' :\n",
    "        return '2019.3333'\n",
    "    elif x == 'Jan 31, 2019' :\n",
    "        return '2019.0833'\n",
    "    elif x == 'Jan 1, 2019' :\n",
    "        return '2019'\n",
    "    elif x == 'Jan 12, 2019' :\n",
    "        return '2019.034'\n",
    "    elif x == 'Dec 31, 2019' :\n",
    "        return '2020'\n",
    "    elif x == 'Jun 1, 2019' :\n",
    "        return '2019.416'\n",
    "    else :\n",
    "        return x"
   ]
  },
  {
   "cell_type": "code",
   "execution_count": null,
   "metadata": {
    "id": "OQGkUEfO3eHq"
   },
   "outputs": [],
   "source": [
    "train.contract_until = train.contract_until.apply(con_period).astype('float64')\n",
    "test.contract_until = test.contract_until.apply(con_period).astype('float64')"
   ]
  },
  {
   "cell_type": "code",
   "execution_count": null,
   "metadata": {
    "id": "e3E1CKoX3eHr"
   },
   "outputs": [],
   "source": [
    "train['continent'] = train['continent'].astype('category').cat.codes\n",
    "test['continent'] = test['continent'].astype('category').cat.codes\n",
    "\n",
    "train['position'] = train['position'].astype('category').cat.codes\n",
    "test['position'] = test['position'].astype('category').cat.codes\n",
    "\n",
    "train['prefer_foot'] = train['prefer_foot'].astype('category').cat.codes\n",
    "test['prefer_foot'] = test['prefer_foot'].astype('category').cat.codes"
   ]
  },
  {
   "cell_type": "code",
   "execution_count": null,
   "metadata": {
    "id": "QMM6kvFy3eHt"
   },
   "outputs": [],
   "source": [
    "train.value = np.log1p(train.value)"
   ]
  },
  {
   "cell_type": "code",
   "execution_count": null,
   "metadata": {
    "id": "IFpHs5Yl3eHt"
   },
   "outputs": [],
   "source": [
    "train = pd.get_dummies(columns = ['continent', 'position', 'prefer_foot'], data = train)\n",
    "test = pd.get_dummies(columns = ['continent', 'position', 'prefer_foot'], data = test)"
   ]
  },
  {
   "cell_type": "code",
   "execution_count": null,
   "metadata": {
    "id": "Ef9lWbvE3eHu"
   },
   "outputs": [],
   "source": [
    "train[['age','reputation', 'stat_potential']] = np.log1p(train[['age','reputation', 'stat_potential']])\n",
    "test[['age','reputation', 'stat_potential']] = np.log1p(test[['age','reputation', 'stat_potential']])"
   ]
  },
  {
   "cell_type": "code",
   "execution_count": null,
   "metadata": {
    "id": "a0QP03qO3eHu"
   },
   "outputs": [],
   "source": [
    "from sklearn.preprocessing import StandardScaler, MinMaxScaler, RobustScaler\n",
    "\n",
    "scaler = StandardScaler()\n",
    "\n",
    "std_feature = ['age', 'contract_until', 'reputation', 'stat_overall',\n",
    "       'stat_potential', 'stat_skill_moves']\n",
    "\n",
    "train[std_feature] = pd.DataFrame(scaler.fit_transform(train[std_feature]), columns =  train[std_feature].columns)\n",
    "test[std_feature] = pd.DataFrame(scaler.fit_transform(test[std_feature]), columns = test[std_feature].columns)"
   ]
  },
  {
   "cell_type": "code",
   "execution_count": null,
   "metadata": {
    "id": "ii5WOXBg3eHv"
   },
   "outputs": [],
   "source": [
    "feature = ['age', 'contract_until', 'reputation', 'stat_overall',\n",
    "       'stat_potential', 'stat_skill_moves', 'continent_0',\n",
    "       'continent_1', 'continent_2', 'continent_3', 'continent_4',\n",
    "       'position_0', 'position_1', 'position_2', 'position_3', 'prefer_foot_0',\n",
    "       'prefer_foot_1']\n",
    "\n",
    "x_train = train[feature]\n",
    "y_train = train['value']\n",
    "x_test = test[feature]"
   ]
  },
  {
   "cell_type": "markdown",
   "metadata": {
    "id": "i8jRPuMy3eHw"
   },
   "source": [
    "## 모델링"
   ]
  },
  {
   "cell_type": "code",
   "execution_count": null,
   "metadata": {
    "id": "CL0MZd9g3eHw"
   },
   "outputs": [],
   "source": [
    "from sklearn.model_selection import cross_val_score, train_test_split, KFold\n",
    "from sklearn.metrics import mean_squared_error, make_scorer\n",
    "from sklearn.ensemble import RandomForestRegressor, GradientBoostingRegressor, ExtraTreesRegressor\n",
    "from xgboost import XGBRegressor\n",
    "from lightgbm import LGBMRegressor\n",
    "from catboost import CatBoostRegressor\n",
    "from sklearn.preprocessing import StandardScaler, MinMaxScaler, RobustScaler\n",
    "\n",
    "\n",
    "n_folds = 3\n",
    "\n",
    "def rmse_cv(model):\n",
    "    kf = KFold(n_folds, shuffle=True, random_state=42).get_n_splits(x_train.values)\n",
    "    rmse= np.sqrt(-cross_val_score(model, x_train.values, y_train, scoring=\"neg_mean_squared_error\", cv = kf))\n",
    "    return(rmse)"
   ]
  },
  {
   "cell_type": "markdown",
   "metadata": {
    "id": "Yi3K8XlB3eHw"
   },
   "source": [
    "- **RandomForestRegressor 튜닝 후**"
   ]
  },
  {
   "cell_type": "code",
   "execution_count": null,
   "metadata": {
    "id": "gS91sBvD3eHx"
   },
   "outputs": [],
   "source": [
    "model_rf = RandomForestRegressor(n_estimators= 100,\n",
    "                                 min_samples_leaf= 1,\n",
    "                                 max_features= 'auto',\n",
    "                                 bootstrap= False,\n",
    "                                 random_state=22)"
   ]
  },
  {
   "cell_type": "code",
   "execution_count": null,
   "metadata": {
    "id": "7SJ5ouxD3eHx"
   },
   "outputs": [],
   "source": [
    "score = rmse_cv(model_rf)\n",
    "rf_score = score.mean()\n",
    "rf_score"
   ]
  },
  {
   "cell_type": "code",
   "execution_count": null,
   "metadata": {
    "id": "oVm6W_r03eHx"
   },
   "outputs": [],
   "source": [
    "model_rf.fit(x_train, y_train)\n",
    "pred_rf = np.expm1(model_rf.predict(x_test))\n",
    "pred_rf"
   ]
  },
  {
   "cell_type": "code",
   "execution_count": null,
   "metadata": {
    "id": "dErwehox3eHy"
   },
   "outputs": [],
   "source": [
    "submission['rf'] = pred_rf"
   ]
  },
  {
   "cell_type": "markdown",
   "metadata": {
    "id": "yEUKHji33eHy"
   },
   "source": [
    "- **GradientBoostingRegressor 튜닝 후**"
   ]
  },
  {
   "cell_type": "code",
   "execution_count": null,
   "metadata": {
    "id": "oUCRfR-Z3eHy"
   },
   "outputs": [],
   "source": [
    "model_gb = GradientBoostingRegressor(n_estimators=900,\n",
    "                                     min_samples_split=2,\n",
    "                                     min_samples_leaf=2,\n",
    "                                     max_features = 'sqrt',\n",
    "                                     max_depth = 5,\n",
    "                                     random_state=22)"
   ]
  },
  {
   "cell_type": "code",
   "execution_count": null,
   "metadata": {
    "id": "c0hUTtsM3eHz"
   },
   "outputs": [],
   "source": [
    "score = rmse_cv(model_gb)\n",
    "gb_score = score.mean()\n",
    "gb_score"
   ]
  },
  {
   "cell_type": "code",
   "execution_count": null,
   "metadata": {
    "id": "yV8W_JK53eHz"
   },
   "outputs": [],
   "source": [
    "model_gb.fit(x_train, y_train)\n",
    "pred_gb = np.expm1(model_gb.predict(x_test))\n",
    "pred_gb"
   ]
  },
  {
   "cell_type": "code",
   "execution_count": null,
   "metadata": {
    "id": "vRDF5Yiv3eHz"
   },
   "outputs": [],
   "source": [
    "submission['gb'] = pred_gb"
   ]
  },
  {
   "cell_type": "markdown",
   "metadata": {
    "id": "FaI0Raju3eH0"
   },
   "source": [
    "- **LGBMRegressor 튜닝 후**"
   ]
  },
  {
   "cell_type": "code",
   "execution_count": null,
   "metadata": {
    "id": "-YKXZuS_3eH0"
   },
   "outputs": [],
   "source": [
    "model_lgb = LGBMRegressor(n_estimators=300,\n",
    "                          min_samples_split=10,\n",
    "                          min_samples_leaf=4,\n",
    "                          max_features='sqrt',\n",
    "                          max_depth = None,\n",
    "                          random_state=22)"
   ]
  },
  {
   "cell_type": "code",
   "execution_count": null,
   "metadata": {
    "id": "V1kTCnt43eH0"
   },
   "outputs": [],
   "source": [
    "score = rmse_cv(model_lgb)\n",
    "lgb_score = score.mean()\n",
    "lgb_score"
   ]
  },
  {
   "cell_type": "code",
   "execution_count": null,
   "metadata": {
    "id": "Ifw7hNsv3eH0"
   },
   "outputs": [],
   "source": [
    "model_lgb.fit(x_train, y_train)\n",
    "pred_lgb = np.expm1(model_lgb.predict(x_test))\n",
    "pred_lgb"
   ]
  },
  {
   "cell_type": "code",
   "execution_count": null,
   "metadata": {
    "id": "KjTV9wET3eH0"
   },
   "outputs": [],
   "source": [
    "submission['lgb'] = pred_lgb"
   ]
  },
  {
   "cell_type": "markdown",
   "metadata": {
    "id": "3--4wPgj3eH0"
   },
   "source": [
    "- **XGBRegressor 튜닝 후**"
   ]
  },
  {
   "cell_type": "code",
   "execution_count": null,
   "metadata": {
    "id": "VKBs0QjT3eH1"
   },
   "outputs": [],
   "source": [
    "model_xgb = XGBRegressor(n_estimators=1000,\n",
    "                         max_depth = 5,\n",
    "                         random_state=22)"
   ]
  },
  {
   "cell_type": "code",
   "execution_count": null,
   "metadata": {
    "id": "e3KRAzGb3eH1"
   },
   "outputs": [],
   "source": [
    "score = rmse_cv(model_xgb)\n",
    "xgb_score = score.mean()\n",
    "xgb_score"
   ]
  },
  {
   "cell_type": "code",
   "execution_count": null,
   "metadata": {
    "id": "jdRp6Ul-3eH1"
   },
   "outputs": [],
   "source": [
    "model_xgb.fit(x_train, y_train)\n",
    "pred_xgb = np.expm1(model_xgb.predict(x_test))\n",
    "pred_xgb"
   ]
  },
  {
   "cell_type": "code",
   "execution_count": null,
   "metadata": {
    "id": "qddrvX9w3eH1"
   },
   "outputs": [],
   "source": [
    "submission['xgb'] = pred_xgb"
   ]
  },
  {
   "cell_type": "markdown",
   "metadata": {
    "id": "q0j6h3X93eH1"
   },
   "source": [
    "- **ExtraTreesRegressor 튜닝 후**"
   ]
  },
  {
   "cell_type": "code",
   "execution_count": null,
   "metadata": {
    "id": "Jld2A6vd3eH2"
   },
   "outputs": [],
   "source": [
    "model_extree = ExtraTreesRegressor(n_estimators=700,\n",
    "                                   random_state=22)"
   ]
  },
  {
   "cell_type": "code",
   "execution_count": null,
   "metadata": {
    "id": "YEt_k5Wg3eH2"
   },
   "outputs": [],
   "source": [
    "score = rmse_cv(model_extree)\n",
    "extree_score = score.mean()\n",
    "extree_score"
   ]
  },
  {
   "cell_type": "code",
   "execution_count": null,
   "metadata": {
    "id": "Wk9McSEK3eH2"
   },
   "outputs": [],
   "source": [
    "model_extree.fit(x_train, y_train)\n",
    "pred_extree = np.expm1(model_extree.predict(x_test))\n",
    "pred_extree"
   ]
  },
  {
   "cell_type": "code",
   "execution_count": null,
   "metadata": {
    "id": "s7Sqekqk3eH2"
   },
   "outputs": [],
   "source": [
    "submission['extree'] = pred_extree"
   ]
  },
  {
   "cell_type": "markdown",
   "metadata": {
    "id": "dWWGbDIc3eH3"
   },
   "source": [
    "- **CatBoostRegressor 튜닝 후**"
   ]
  },
  {
   "cell_type": "code",
   "execution_count": null,
   "metadata": {
    "id": "w4FvvKwy3eH3"
   },
   "outputs": [],
   "source": [
    "model_cat = CatBoostRegressor(depth=2, learning_rate=0.1, eval_metric='RMSE', verbose=0, random_seed=22)"
   ]
  },
  {
   "cell_type": "code",
   "execution_count": null,
   "metadata": {
    "id": "C4w6A8Pr3eH3"
   },
   "outputs": [],
   "source": [
    "score = rmse_cv(model_cat)\n",
    "cat_score = score.mean()\n",
    "cat_score"
   ]
  },
  {
   "cell_type": "code",
   "execution_count": null,
   "metadata": {
    "id": "WJiO4qvn3eH3"
   },
   "outputs": [],
   "source": [
    "model_cat.fit(x_train, y_train)\n",
    "pred_cat = np.expm1(model_cat.predict(x_test))\n",
    "pred_cat"
   ]
  },
  {
   "cell_type": "code",
   "execution_count": null,
   "metadata": {
    "id": "SpCS38Kn3eH3"
   },
   "outputs": [],
   "source": [
    "submission['cat'] = pred_cat"
   ]
  },
  {
   "cell_type": "markdown",
   "metadata": {
    "id": "m9LLhsVW3eH3"
   },
   "source": [
    "- **StackingCVRegressor**"
   ]
  },
  {
   "cell_type": "code",
   "execution_count": null,
   "metadata": {
    "id": "PiJqIE5o3eH4"
   },
   "outputs": [],
   "source": [
    "!pip install mlxtend"
   ]
  },
  {
   "cell_type": "code",
   "execution_count": null,
   "metadata": {
    "id": "mhUEdCZC3eH4"
   },
   "outputs": [],
   "source": [
    "from mlxtend.regressor import StackingCVRegressor"
   ]
  },
  {
   "cell_type": "code",
   "execution_count": null,
   "metadata": {
    "id": "PcXFrbhi3eH4"
   },
   "outputs": [],
   "source": [
    "model_stack = StackingCVRegressor(regressors=(model_rf, model_extree, model_lgb, model_xgb, model_gb, model_cat),\n",
    "                                meta_regressor=model_cat,\n",
    "                                use_features_in_secondary=True,\n",
    "                                n_jobs=-1)"
   ]
  },
  {
   "cell_type": "code",
   "execution_count": null,
   "metadata": {
    "id": "OyjSuLGQ3eH4"
   },
   "outputs": [],
   "source": [
    "score = rmse_cv(model_stack)\n",
    "stk_score = score.mean()\n",
    "stk_score"
   ]
  },
  {
   "cell_type": "code",
   "execution_count": null,
   "metadata": {
    "id": "RgXzMvpm3eH4"
   },
   "outputs": [],
   "source": [
    "model_stack.fit(np.array(x_train), y_train)\n",
    "pred_stk = np.expm1(model_stack.predict(np.array(x_test)))\n",
    "pred_stk"
   ]
  },
  {
   "cell_type": "code",
   "execution_count": null,
   "metadata": {
    "id": "hyIusePp3eH4"
   },
   "outputs": [],
   "source": [
    "submission['stk'] = pred_stk"
   ]
  },
  {
   "cell_type": "markdown",
   "metadata": {
    "id": "r-ps1Yep3eH5"
   },
   "source": [
    "- **VotingRegressor**"
   ]
  },
  {
   "cell_type": "code",
   "execution_count": null,
   "metadata": {
    "id": "cAGxIPZR3eH5"
   },
   "outputs": [],
   "source": [
    "from sklearn.ensemble import VotingRegressor"
   ]
  },
  {
   "cell_type": "code",
   "execution_count": null,
   "metadata": {
    "id": "dpKv8Aq83eH5"
   },
   "outputs": [],
   "source": [
    "model_vot = VotingRegressor([('cat', model_cat), ('rf', model_rf),('xgb',model_xgb),('lgb',model_lgb),('extree',model_extree),('gb',model_gb)])"
   ]
  },
  {
   "cell_type": "code",
   "execution_count": null,
   "metadata": {
    "id": "9XKxiSjQ3eH5",
    "scrolled": true
   },
   "outputs": [],
   "source": [
    "score = rmse_cv(model_vot)\n",
    "vot_score = score.mean()\n",
    "vot_score"
   ]
  },
  {
   "cell_type": "code",
   "execution_count": null,
   "metadata": {
    "id": "pC1Ytgsq3eH5"
   },
   "outputs": [],
   "source": [
    "model_vot.fit(x_train, y_train)\n",
    "pred_vot = np.expm1(model_vot.predict(x_test))\n",
    "pred_vot"
   ]
  },
  {
   "cell_type": "code",
   "execution_count": null,
   "metadata": {
    "id": "WPoHo57N3eH5"
   },
   "outputs": [],
   "source": [
    "submission['vot'] = pred_vot"
   ]
  },
  {
   "cell_type": "markdown",
   "metadata": {
    "id": "jh7CmAnC3eH6"
   },
   "source": [
    "- **Blending**"
   ]
  },
  {
   "cell_type": "code",
   "execution_count": null,
   "metadata": {
    "id": "H2RY1eMJ3eH6"
   },
   "outputs": [],
   "source": [
    "b_all_model = (pred_cat + pred_extree + pred_xgb + pred_lgb + pred_gb + pred_rf + pred_stk+ pred_vot)/8 "
   ]
  },
  {
   "cell_type": "code",
   "execution_count": null,
   "metadata": {
    "id": "CFqf9Gms3eH6"
   },
   "outputs": [],
   "source": [
    "submission['blending'] = b_all_model"
   ]
  },
  {
   "cell_type": "code",
   "execution_count": null,
   "metadata": {
    "id": "bxsVOgcB3eH6",
    "scrolled": true
   },
   "outputs": [],
   "source": [
    "submission"
   ]
  },
  {
   "cell_type": "markdown",
   "metadata": {
    "id": "en-T6-P63eH6"
   },
   "source": [
    "- **Outlier**"
   ]
  },
  {
   "cell_type": "code",
   "execution_count": null,
   "metadata": {
    "id": "wLrjeAOA3eH6"
   },
   "outputs": [],
   "source": [
    "submission['blending'].plot()"
   ]
  },
  {
   "cell_type": "markdown",
   "metadata": {
    "id": "RdSSetUT3eH6"
   },
   "source": [
    "인덱스 0번만 과하게 높은 것을 확인, 낮추는 방향으로 진행"
   ]
  },
  {
   "cell_type": "code",
   "execution_count": null,
   "metadata": {
    "id": "HW5s6jaI3eH7"
   },
   "outputs": [],
   "source": [
    "q1 = submission['blending'].quantile(0.0042)\n",
    "q2 = submission['blending'].quantile(0.99)\n",
    "\n",
    "\n",
    "sub  = pd.read_csv('./data/submission.csv')\n",
    "sub['value'] = submission['blending'].apply(lambda x: x if x > q1 else x*0.77)\n",
    "sub['value'] = submission['blending'].apply(lambda x: x if x < q2 else x*1.1)"
   ]
  },
  {
   "cell_type": "code",
   "execution_count": null,
   "metadata": {
    "id": "7MYe5fIn3eH7"
   },
   "outputs": [],
   "source": [
    "sub.to_csv(\"submission_fifa_regression1.csv\", index=False)"
   ]
  }
 ],
 "metadata": {
  "colab": {
   "name": "baseline_fifa_final.ipynb",
   "provenance": []
  },
  "kernelspec": {
   "display_name": "Python 3",
   "language": "python",
   "name": "python3"
  },
  "language_info": {
   "codemirror_mode": {
    "name": "ipython",
    "version": 3
   },
   "file_extension": ".py",
   "mimetype": "text/x-python",
   "name": "python",
   "nbconvert_exporter": "python",
   "pygments_lexer": "ipython3",
   "version": "3.8.3"
  }
 },
 "nbformat": 4,
 "nbformat_minor": 4
}
