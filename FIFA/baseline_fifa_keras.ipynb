{
 "cells": [
  {
   "cell_type": "code",
   "execution_count": 1,
   "metadata": {},
   "outputs": [],
   "source": [
    "import numpy as np \n",
    "import pandas as pd \n",
    "import seaborn as sns\n",
    "import matplotlib.pyplot as plt\n",
    "import pickle\n",
    "import joblib\n",
    "import warnings\n",
    "warnings.filterwarnings(action='ignore')  \n",
    "\n",
    "train = pd.read_csv('./data/FIFA_train.csv')\n",
    "test = pd.read_csv('./data/FIFA_test.csv')\n",
    "submission  = pd.read_csv('./data/submission.csv')"
   ]
  },
  {
   "cell_type": "markdown",
   "metadata": {},
   "source": [
    "## 간단한 전처리"
   ]
  },
  {
   "cell_type": "code",
   "execution_count": 2,
   "metadata": {},
   "outputs": [],
   "source": [
    "def con_period(x):\n",
    "    if x == 'Dec 31, 2018' :\n",
    "        return '2019'\n",
    "    elif x == 'Jun 30, 2020' :\n",
    "        return '2020.5'\n",
    "    elif x == 'Jun 30, 2019' :\n",
    "        return '2019.5'\n",
    "    elif x == 'May 31, 2020' :\n",
    "        return '2020.3333'\n",
    "    elif x == 'May 31, 2019' :\n",
    "        return '2019.3333'\n",
    "    elif x == 'Jan 31, 2019' :\n",
    "        return '2019.0833'\n",
    "    elif x == 'Jan 1, 2019' :\n",
    "        return '2019'\n",
    "    elif x == 'Jan 12, 2019' :\n",
    "        return '2019.034'\n",
    "    elif x == 'Dec 31, 2019' :\n",
    "        return '2020'\n",
    "    elif x == 'Jun 1, 2019' :\n",
    "        return '2019.416'\n",
    "    else :\n",
    "        return x"
   ]
  },
  {
   "cell_type": "code",
   "execution_count": 3,
   "metadata": {},
   "outputs": [],
   "source": [
    "train.contract_until = train.contract_until.apply(con_period).astype('float64')\n",
    "test.contract_until = test.contract_until.apply(con_period).astype('float64')"
   ]
  },
  {
   "cell_type": "code",
   "execution_count": 4,
   "metadata": {},
   "outputs": [],
   "source": [
    "train.contract_until -= 2018\n",
    "test.contract_until -= 2018"
   ]
  },
  {
   "cell_type": "code",
   "execution_count": 5,
   "metadata": {},
   "outputs": [],
   "source": [
    "train['continent'] = train['continent'].astype('category').cat.codes\n",
    "test['continent'] = test['continent'].astype('category').cat.codes\n",
    "\n",
    "train['position'] = train['position'].astype('category').cat.codes\n",
    "test['position'] = test['position'].astype('category').cat.codes\n",
    "\n",
    "train['prefer_foot'] = train['prefer_foot'].astype('category').cat.codes\n",
    "test['prefer_foot'] = test['prefer_foot'].astype('category').cat.codes"
   ]
  },
  {
   "cell_type": "code",
   "execution_count": 6,
   "metadata": {},
   "outputs": [],
   "source": [
    "train.value = np.log1p(train.value)"
   ]
  },
  {
   "cell_type": "code",
   "execution_count": 7,
   "metadata": {},
   "outputs": [],
   "source": [
    "train = pd.get_dummies(columns = ['continent', 'position', 'prefer_foot'], data = train)\n",
    "test = pd.get_dummies(columns = ['continent', 'position', 'prefer_foot'], data = test)"
   ]
  },
  {
   "cell_type": "code",
   "execution_count": 8,
   "metadata": {},
   "outputs": [],
   "source": [
    "train[['age','reputation', 'stat_potential']] = np.log1p(train[['age','reputation', 'stat_potential']])\n",
    "test[['age','reputation', 'stat_potential']] = np.log1p(test[['age','reputation', 'stat_potential']])"
   ]
  },
  {
   "cell_type": "code",
   "execution_count": 9,
   "metadata": {},
   "outputs": [],
   "source": [
    "from sklearn.preprocessing import StandardScaler, MinMaxScaler, RobustScaler\n",
    "\n",
    "scaler = StandardScaler()\n",
    "\n",
    "std_feature = ['age', 'contract_until', 'reputation', 'stat_overall',\n",
    "       'stat_potential', 'stat_skill_moves']\n",
    "\n",
    "train[std_feature] = pd.DataFrame(scaler.fit_transform(train[std_feature]), columns =  train[std_feature].columns)\n",
    "test[std_feature] = pd.DataFrame(scaler.fit_transform(test[std_feature]), columns = test[std_feature].columns)"
   ]
  },
  {
   "cell_type": "code",
   "execution_count": 10,
   "metadata": {},
   "outputs": [],
   "source": [
    "feature = ['age', 'contract_until', 'reputation', 'stat_overall',\n",
    "       'stat_potential', 'stat_skill_moves', 'continent_0',\n",
    "       'continent_1', 'continent_2', 'continent_3', 'continent_4',\n",
    "       'position_0', 'position_1', 'position_2', 'position_3', 'prefer_foot_0',\n",
    "       'prefer_foot_1']\n",
    "\n",
    "x_train = train[feature]\n",
    "y_train = train['value']\n",
    "x_test = test[feature]"
   ]
  },
  {
   "cell_type": "markdown",
   "metadata": {},
   "source": [
    "## 모델링"
   ]
  },
  {
   "cell_type": "code",
   "execution_count": 12,
   "metadata": {},
   "outputs": [],
   "source": [
    "from sklearn.model_selection import cross_val_score, train_test_split, KFold\n",
    "from sklearn.metrics import mean_squared_error, make_scorer\n",
    "from sklearn.ensemble import RandomForestRegressor, GradientBoostingRegressor, ExtraTreesRegressor\n",
    "from xgboost import XGBRegressor\n",
    "from lightgbm import LGBMRegressor\n",
    "from catboost import CatBoostRegressor\n",
    "from sklearn.preprocessing import StandardScaler, MinMaxScaler, RobustScaler\n",
    "from sklearn.model_selection import GridSearchCV, RandomizedSearchCV\n",
    "from bayes_opt import BayesianOptimization\n",
    "from tensorflow.keras import layers, callbacks\n",
    "import tensorflow as tf\n",
    "from tensorflow import keras\n",
    "from tensorflow.keras.optimizers import SGD, Adam"
   ]
  },
  {
   "cell_type": "code",
   "execution_count": 13,
   "metadata": {},
   "outputs": [],
   "source": [
    "def fifa_rmse(true_df, pred_df):\n",
    "    gt = true_df.to_numpy()\n",
    "    pr = pred_df.to_numpy()\n",
    "\n",
    "    score = np.sqrt(np.mean(np.square(gt - pr)))\n",
    "    score = round(score, 7)\n",
    "    return score\n",
    "\n",
    "early_stopping = callbacks.EarlyStopping(\n",
    "    monitor='val_loss', patience=10,    \n",
    "    min_delta=0.001, \n",
    "    restore_best_weights=True,\n",
    ")"
   ]
  },
  {
   "cell_type": "code",
   "execution_count": 30,
   "metadata": {},
   "outputs": [],
   "source": [
    "from sklearn.model_selection import train_test_split\n",
    "\n",
    "# train_test_split\n",
    "train_x, val_x, train_y, val_y = train_test_split(x_train, y_train, test_size=0.2, random_state=22)"
   ]
  },
  {
   "cell_type": "code",
   "execution_count": 42,
   "metadata": {},
   "outputs": [
    {
     "name": "stdout",
     "output_type": "stream",
     "text": [
      "Epoch 1/1000\n",
      "70/70 - 0s - loss: 151.1727 - val_loss: 51.8463\n",
      "Epoch 2/1000\n",
      "70/70 - 0s - loss: 11.5268 - val_loss: 4.6287\n",
      "Epoch 3/1000\n",
      "70/70 - 0s - loss: 3.5467 - val_loss: 2.7759\n",
      "Epoch 4/1000\n",
      "70/70 - 0s - loss: 2.3417 - val_loss: 1.9415\n",
      "Epoch 5/1000\n",
      "70/70 - 0s - loss: 1.6126 - val_loss: 1.2892\n",
      "Epoch 6/1000\n",
      "70/70 - 0s - loss: 1.0477 - val_loss: 0.8107\n",
      "Epoch 7/1000\n",
      "70/70 - 0s - loss: 0.6493 - val_loss: 0.4997\n",
      "Epoch 8/1000\n",
      "70/70 - 0s - loss: 0.4138 - val_loss: 0.3321\n",
      "Epoch 9/1000\n",
      "70/70 - 0s - loss: 0.2867 - val_loss: 0.2429\n",
      "Epoch 10/1000\n",
      "70/70 - 0s - loss: 0.2193 - val_loss: 0.1929\n",
      "Epoch 11/1000\n",
      "70/70 - 0s - loss: 0.1733 - val_loss: 0.1545\n",
      "Epoch 12/1000\n",
      "70/70 - 0s - loss: 0.1398 - val_loss: 0.1276\n",
      "Epoch 13/1000\n",
      "70/70 - 0s - loss: 0.1173 - val_loss: 0.1047\n",
      "Epoch 14/1000\n",
      "70/70 - 0s - loss: 0.0990 - val_loss: 0.0930\n",
      "Epoch 15/1000\n",
      "70/70 - 0s - loss: 0.0858 - val_loss: 0.0803\n",
      "Epoch 16/1000\n",
      "70/70 - 0s - loss: 0.0760 - val_loss: 0.0696\n",
      "Epoch 17/1000\n",
      "70/70 - 0s - loss: 0.0676 - val_loss: 0.0633\n",
      "Epoch 18/1000\n",
      "70/70 - 0s - loss: 0.0619 - val_loss: 0.0610\n",
      "Epoch 19/1000\n",
      "70/70 - 0s - loss: 0.0573 - val_loss: 0.0544\n",
      "Epoch 20/1000\n",
      "70/70 - 0s - loss: 0.0533 - val_loss: 0.0509\n",
      "Epoch 21/1000\n",
      "70/70 - 0s - loss: 0.0500 - val_loss: 0.0486\n",
      "Epoch 22/1000\n",
      "70/70 - 0s - loss: 0.0472 - val_loss: 0.0457\n",
      "Epoch 23/1000\n",
      "70/70 - 0s - loss: 0.0448 - val_loss: 0.0428\n",
      "Epoch 24/1000\n",
      "70/70 - 0s - loss: 0.0426 - val_loss: 0.0403\n",
      "Epoch 25/1000\n",
      "70/70 - 0s - loss: 0.0402 - val_loss: 0.0406\n",
      "Epoch 26/1000\n",
      "70/70 - 0s - loss: 0.0393 - val_loss: 0.0371\n",
      "Epoch 27/1000\n",
      "70/70 - 0s - loss: 0.0372 - val_loss: 0.0365\n",
      "Epoch 28/1000\n",
      "70/70 - 0s - loss: 0.0358 - val_loss: 0.0345\n",
      "Epoch 29/1000\n",
      "70/70 - 0s - loss: 0.0344 - val_loss: 0.0326\n",
      "Epoch 30/1000\n",
      "70/70 - 0s - loss: 0.0337 - val_loss: 0.0322\n",
      "Epoch 31/1000\n",
      "70/70 - 0s - loss: 0.0317 - val_loss: 0.0310\n",
      "Epoch 32/1000\n",
      "70/70 - 0s - loss: 0.0316 - val_loss: 0.0304\n",
      "Epoch 33/1000\n",
      "70/70 - 0s - loss: 0.0296 - val_loss: 0.0294\n",
      "Epoch 34/1000\n",
      "70/70 - 0s - loss: 0.0288 - val_loss: 0.0291\n",
      "Epoch 35/1000\n",
      "70/70 - 0s - loss: 0.0279 - val_loss: 0.0276\n",
      "Epoch 36/1000\n",
      "70/70 - 0s - loss: 0.0273 - val_loss: 0.0269\n",
      "Epoch 37/1000\n",
      "70/70 - 0s - loss: 0.0280 - val_loss: 0.0292\n",
      "Epoch 38/1000\n",
      "70/70 - 0s - loss: 0.0264 - val_loss: 0.0245\n",
      "Epoch 39/1000\n",
      "70/70 - 0s - loss: 0.0252 - val_loss: 0.0243\n",
      "Epoch 40/1000\n",
      "70/70 - 0s - loss: 0.0250 - val_loss: 0.0249\n",
      "Epoch 41/1000\n",
      "70/70 - 0s - loss: 0.0236 - val_loss: 0.0232\n",
      "Epoch 42/1000\n",
      "70/70 - 0s - loss: 0.0233 - val_loss: 0.0218\n",
      "Epoch 43/1000\n",
      "70/70 - 0s - loss: 0.0229 - val_loss: 0.0217\n",
      "Epoch 44/1000\n",
      "70/70 - 0s - loss: 0.0223 - val_loss: 0.0219\n",
      "Epoch 45/1000\n",
      "70/70 - 0s - loss: 0.0216 - val_loss: 0.0218\n",
      "Epoch 46/1000\n",
      "70/70 - 0s - loss: 0.0214 - val_loss: 0.0208\n",
      "Epoch 47/1000\n",
      "70/70 - 0s - loss: 0.0213 - val_loss: 0.0197\n",
      "Epoch 48/1000\n",
      "70/70 - 0s - loss: 0.0203 - val_loss: 0.0191\n",
      "Epoch 49/1000\n",
      "70/70 - 0s - loss: 0.0201 - val_loss: 0.0198\n",
      "Epoch 50/1000\n",
      "70/70 - 0s - loss: 0.0193 - val_loss: 0.0185\n",
      "Epoch 51/1000\n",
      "70/70 - 0s - loss: 0.0191 - val_loss: 0.0181\n",
      "Epoch 52/1000\n",
      "70/70 - 0s - loss: 0.0186 - val_loss: 0.0175\n",
      "Epoch 53/1000\n",
      "70/70 - 0s - loss: 0.0185 - val_loss: 0.0176\n",
      "Epoch 54/1000\n",
      "70/70 - 0s - loss: 0.0183 - val_loss: 0.0201\n",
      "Epoch 55/1000\n",
      "70/70 - 0s - loss: 0.0179 - val_loss: 0.0170\n",
      "Epoch 56/1000\n",
      "70/70 - 0s - loss: 0.0176 - val_loss: 0.0165\n",
      "Epoch 57/1000\n",
      "70/70 - 0s - loss: 0.0169 - val_loss: 0.0161\n",
      "Epoch 58/1000\n",
      "70/70 - 0s - loss: 0.0173 - val_loss: 0.0164\n",
      "Epoch 59/1000\n",
      "70/70 - 0s - loss: 0.0174 - val_loss: 0.0158\n",
      "Epoch 60/1000\n",
      "70/70 - 0s - loss: 0.0166 - val_loss: 0.0157\n",
      "Epoch 61/1000\n",
      "70/70 - 0s - loss: 0.0163 - val_loss: 0.0160\n",
      "Epoch 62/1000\n",
      "70/70 - 0s - loss: 0.0158 - val_loss: 0.0158\n",
      "Epoch 63/1000\n",
      "70/70 - 0s - loss: 0.0153 - val_loss: 0.0155\n",
      "Epoch 64/1000\n",
      "70/70 - 0s - loss: 0.0154 - val_loss: 0.0151\n",
      "Epoch 65/1000\n",
      "70/70 - 0s - loss: 0.0151 - val_loss: 0.0142\n",
      "Epoch 66/1000\n",
      "70/70 - 0s - loss: 0.0148 - val_loss: 0.0139\n",
      "Epoch 67/1000\n",
      "70/70 - 0s - loss: 0.0150 - val_loss: 0.0138\n",
      "Epoch 68/1000\n",
      "70/70 - 0s - loss: 0.0153 - val_loss: 0.0136\n",
      "Epoch 69/1000\n",
      "70/70 - 0s - loss: 0.0137 - val_loss: 0.0137\n",
      "Epoch 70/1000\n",
      "70/70 - 0s - loss: 0.0141 - val_loss: 0.0133\n",
      "Epoch 71/1000\n",
      "70/70 - 0s - loss: 0.0144 - val_loss: 0.0129\n",
      "Epoch 72/1000\n",
      "70/70 - 0s - loss: 0.0134 - val_loss: 0.0128\n",
      "Epoch 73/1000\n",
      "70/70 - 0s - loss: 0.0133 - val_loss: 0.0123\n",
      "Epoch 74/1000\n",
      "70/70 - 0s - loss: 0.0129 - val_loss: 0.0125\n",
      "Epoch 75/1000\n",
      "70/70 - 0s - loss: 0.0128 - val_loss: 0.0121\n",
      "Epoch 76/1000\n",
      "70/70 - 0s - loss: 0.0139 - val_loss: 0.0125\n",
      "Epoch 77/1000\n",
      "70/70 - 0s - loss: 0.0131 - val_loss: 0.0141\n",
      "Epoch 78/1000\n",
      "70/70 - 0s - loss: 0.0126 - val_loss: 0.0142\n",
      "Epoch 79/1000\n",
      "70/70 - 0s - loss: 0.0124 - val_loss: 0.0112\n",
      "Epoch 80/1000\n",
      "70/70 - 0s - loss: 0.0119 - val_loss: 0.0111\n",
      "Epoch 81/1000\n",
      "70/70 - 0s - loss: 0.0121 - val_loss: 0.0124\n",
      "Epoch 82/1000\n",
      "70/70 - 0s - loss: 0.0119 - val_loss: 0.0115\n",
      "Epoch 83/1000\n",
      "70/70 - 0s - loss: 0.0116 - val_loss: 0.0105\n",
      "Epoch 84/1000\n",
      "70/70 - 0s - loss: 0.0115 - val_loss: 0.0112\n",
      "Epoch 85/1000\n",
      "70/70 - 0s - loss: 0.0117 - val_loss: 0.0104\n",
      "Epoch 86/1000\n",
      "70/70 - 0s - loss: 0.0116 - val_loss: 0.0104\n",
      "Epoch 87/1000\n",
      "70/70 - 0s - loss: 0.0110 - val_loss: 0.0100\n",
      "Epoch 88/1000\n",
      "70/70 - 0s - loss: 0.0108 - val_loss: 0.0100\n",
      "Epoch 89/1000\n",
      "70/70 - 0s - loss: 0.0108 - val_loss: 0.0100\n",
      "Epoch 90/1000\n",
      "70/70 - 0s - loss: 0.0109 - val_loss: 0.0098\n",
      "Epoch 91/1000\n",
      "70/70 - 0s - loss: 0.0123 - val_loss: 0.0095\n",
      "Epoch 92/1000\n",
      "70/70 - 0s - loss: 0.0107 - val_loss: 0.0102\n",
      "Epoch 93/1000\n",
      "70/70 - 0s - loss: 0.0105 - val_loss: 0.0094\n",
      "Epoch 94/1000\n",
      "70/70 - 0s - loss: 0.0104 - val_loss: 0.0099\n",
      "Epoch 95/1000\n",
      "70/70 - 0s - loss: 0.0103 - val_loss: 0.0105\n",
      "Epoch 96/1000\n",
      "70/70 - 0s - loss: 0.0099 - val_loss: 0.0098\n",
      "Epoch 97/1000\n",
      "70/70 - 0s - loss: 0.0100 - val_loss: 0.0089\n",
      "Epoch 98/1000\n",
      "70/70 - 0s - loss: 0.0095 - val_loss: 0.0088\n",
      "Epoch 99/1000\n",
      "70/70 - 0s - loss: 0.0096 - val_loss: 0.0088\n",
      "Epoch 100/1000\n",
      "70/70 - 0s - loss: 0.0096 - val_loss: 0.0085\n",
      "Epoch 101/1000\n",
      "70/70 - 0s - loss: 0.0101 - val_loss: 0.0085\n",
      "Epoch 102/1000\n",
      "70/70 - 0s - loss: 0.0096 - val_loss: 0.0090\n",
      "Epoch 103/1000\n",
      "70/70 - 0s - loss: 0.0090 - val_loss: 0.0094\n",
      "Epoch 104/1000\n",
      "70/70 - 0s - loss: 0.0102 - val_loss: 0.0091\n",
      "Epoch 105/1000\n",
      "70/70 - 0s - loss: 0.0094 - val_loss: 0.0082\n",
      "Epoch 106/1000\n",
      "70/70 - 0s - loss: 0.0095 - val_loss: 0.0094\n",
      "Epoch 107/1000\n",
      "70/70 - 0s - loss: 0.0092 - val_loss: 0.0097\n"
     ]
    }
   ],
   "source": [
    "lr = 0.0001 #0.0003 #0.001\n",
    "nn_model = keras.Sequential([\n",
    "    keras.layers.Flatten(input_shape=(train_x.shape[1],)),\n",
    "    keras.layers.Dense(256, activation='relu'),\n",
    "    keras.layers.Dense(256, activation='relu'),\n",
    "    keras.layers.Dense(128, activation='relu'),\n",
    "    keras.layers.Dense(100, activation='relu'),\n",
    "    keras.layers.Dense(100, activation='relu'),\n",
    "    keras.layers.Dense(1)\n",
    "    ])\n",
    "\n",
    "nn_model.compile(optimizer=Adam(lr),   #'rmsprop'\n",
    "              loss='mse'\n",
    "                 )\n",
    "\n",
    "history = nn_model.fit(x_train, y_train, callbacks=early_stopping, verbose=2, validation_data=(x_train, y_train), epochs=1000, batch_size=128)"
   ]
  },
  {
   "cell_type": "code",
   "execution_count": 43,
   "metadata": {},
   "outputs": [
    {
     "data": {
      "image/png": "[encoded data removed]",
      "text/plain": [
       "<Figure size 432x288 with 1 Axes>"
      ]
     },
     "metadata": {
      "needs_background": "light"
     },
     "output_type": "display_data"
    }
   ],
   "source": [
    "plt.title('Loss Trend')\n",
    "plt.xlabel('epochs')\n",
    "plt.ylabel('loss')\n",
    "plt.grid()\n",
    "\n",
    "plt.plot(history.history['loss'], label='train loss')\n",
    "plt.plot(history.history['val_loss'], label='validation loss')\n",
    "plt.legend()\n",
    "plt.show()"
   ]
  },
  {
   "cell_type": "code",
   "execution_count": 44,
   "metadata": {},
   "outputs": [
    {
     "data": {
      "text/plain": [
       "0.0958442"
      ]
     },
     "execution_count": 44,
     "metadata": {},
     "output_type": "execute_result"
    }
   ],
   "source": [
    "pred = nn_model.predict(val_x)\n",
    "pred_df = pd.DataFrame(pred)\n",
    "valy_df = pd.DataFrame(val_y).reset_index(drop=True)\n",
    "rmse_score = fifa_rmse(valy_df, pred_df)\n",
    "rmse_score"
   ]
  },
  {
   "cell_type": "code",
   "execution_count": 45,
   "metadata": {},
   "outputs": [],
   "source": [
    "pred_nn = np.expm1(nn_model.predict(x_test))\n",
    "submission['value'] = pred_nn\n",
    "submission.to_csv('submit_nn.csv', index=False)"
   ]
  },
  {
   "cell_type": "markdown",
   "metadata": {},
   "source": [
    "<모델 저장하기>"
   ]
  },
  {
   "cell_type": "code",
   "execution_count": null,
   "metadata": {
    "scrolled": true
   },
   "outputs": [],
   "source": [
    "nn_model.save('./model/nn_model.h5')\n",
    "#nn_model = load_model('./model/nn_model.h5')"
   ]
  }
 ],
 "metadata": {
  "kernelspec": {
   "display_name": "Python 3",
   "language": "python",
   "name": "python3"
  },
  "language_info": {
   "codemirror_mode": {
    "name": "ipython",
    "version": 3
   },
   "file_extension": ".py",
   "mimetype": "text/x-python",
   "name": "python",
   "nbconvert_exporter": "python",
   "pygments_lexer": "ipython3",
   "version": "3.8.3"
  }
 },
 "nbformat": 4,
 "nbformat_minor": 4
}
