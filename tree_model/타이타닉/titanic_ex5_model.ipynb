{
 "cells": [
  {
   "cell_type": "code",
   "execution_count": 1,
   "metadata": {
    "_kg_hide-input": false
   },
   "outputs": [],
   "source": [
    "import numpy as np \n",
    "import pandas as pd \n",
    "import warnings\n",
    "warnings.filterwarnings(action='ignore') "
   ]
  },
  {
   "cell_type": "markdown",
   "metadata": {},
   "source": [
    "## 데이터 불러오기"
   ]
  },
  {
   "cell_type": "code",
   "execution_count": 2,
   "metadata": {},
   "outputs": [
    {
     "data": {
      "text/html": [
       "<div>\n",
       "<style scoped>\n",
       "    .dataframe tbody tr th:only-of-type {\n",
       "        vertical-align: middle;\n",
       "    }\n",
       "\n",
       "    .dataframe tbody tr th {\n",
       "        vertical-align: top;\n",
       "    }\n",
       "\n",
       "    .dataframe thead th {\n",
       "        text-align: right;\n",
       "    }\n",
       "</style>\n",
       "<table border=\"1\" class=\"dataframe\">\n",
       "  <thead>\n",
       "    <tr style=\"text-align: right;\">\n",
       "      <th></th>\n",
       "      <th>PassengerId</th>\n",
       "      <th>Survived</th>\n",
       "      <th>Pclass</th>\n",
       "      <th>Name</th>\n",
       "      <th>Sex</th>\n",
       "      <th>Age</th>\n",
       "      <th>SibSp</th>\n",
       "      <th>Parch</th>\n",
       "      <th>Ticket</th>\n",
       "      <th>Fare</th>\n",
       "      <th>Cabin</th>\n",
       "      <th>Embarked</th>\n",
       "    </tr>\n",
       "  </thead>\n",
       "  <tbody>\n",
       "    <tr>\n",
       "      <th>0</th>\n",
       "      <td>1</td>\n",
       "      <td>0</td>\n",
       "      <td>3</td>\n",
       "      <td>Braund, Mr. Owen Harris</td>\n",
       "      <td>male</td>\n",
       "      <td>22.0</td>\n",
       "      <td>1</td>\n",
       "      <td>0</td>\n",
       "      <td>A/5 21171</td>\n",
       "      <td>7.2500</td>\n",
       "      <td>NaN</td>\n",
       "      <td>S</td>\n",
       "    </tr>\n",
       "    <tr>\n",
       "      <th>1</th>\n",
       "      <td>2</td>\n",
       "      <td>1</td>\n",
       "      <td>1</td>\n",
       "      <td>Cumings, Mrs. John Bradley (Florence Briggs Th...</td>\n",
       "      <td>female</td>\n",
       "      <td>38.0</td>\n",
       "      <td>1</td>\n",
       "      <td>0</td>\n",
       "      <td>PC 17599</td>\n",
       "      <td>71.2833</td>\n",
       "      <td>C85</td>\n",
       "      <td>C</td>\n",
       "    </tr>\n",
       "    <tr>\n",
       "      <th>2</th>\n",
       "      <td>3</td>\n",
       "      <td>1</td>\n",
       "      <td>3</td>\n",
       "      <td>Heikkinen, Miss. Laina</td>\n",
       "      <td>female</td>\n",
       "      <td>26.0</td>\n",
       "      <td>0</td>\n",
       "      <td>0</td>\n",
       "      <td>STON/O2. 3101282</td>\n",
       "      <td>7.9250</td>\n",
       "      <td>NaN</td>\n",
       "      <td>S</td>\n",
       "    </tr>\n",
       "    <tr>\n",
       "      <th>3</th>\n",
       "      <td>4</td>\n",
       "      <td>1</td>\n",
       "      <td>1</td>\n",
       "      <td>Futrelle, Mrs. Jacques Heath (Lily May Peel)</td>\n",
       "      <td>female</td>\n",
       "      <td>35.0</td>\n",
       "      <td>1</td>\n",
       "      <td>0</td>\n",
       "      <td>113803</td>\n",
       "      <td>53.1000</td>\n",
       "      <td>C123</td>\n",
       "      <td>S</td>\n",
       "    </tr>\n",
       "    <tr>\n",
       "      <th>4</th>\n",
       "      <td>5</td>\n",
       "      <td>0</td>\n",
       "      <td>3</td>\n",
       "      <td>Allen, Mr. William Henry</td>\n",
       "      <td>male</td>\n",
       "      <td>35.0</td>\n",
       "      <td>0</td>\n",
       "      <td>0</td>\n",
       "      <td>373450</td>\n",
       "      <td>8.0500</td>\n",
       "      <td>NaN</td>\n",
       "      <td>S</td>\n",
       "    </tr>\n",
       "  </tbody>\n",
       "</table>\n",
       "</div>"
      ],
      "text/plain": [
       "   PassengerId  Survived  Pclass  \\\n",
       "0            1         0       3   \n",
       "1            2         1       1   \n",
       "2            3         1       3   \n",
       "3            4         1       1   \n",
       "4            5         0       3   \n",
       "\n",
       "                                                Name     Sex   Age  SibSp  \\\n",
       "0                            Braund, Mr. Owen Harris    male  22.0      1   \n",
       "1  Cumings, Mrs. John Bradley (Florence Briggs Th...  female  38.0      1   \n",
       "2                             Heikkinen, Miss. Laina  female  26.0      0   \n",
       "3       Futrelle, Mrs. Jacques Heath (Lily May Peel)  female  35.0      1   \n",
       "4                           Allen, Mr. William Henry    male  35.0      0   \n",
       "\n",
       "   Parch            Ticket     Fare Cabin Embarked  \n",
       "0      0         A/5 21171   7.2500   NaN        S  \n",
       "1      0          PC 17599  71.2833   C85        C  \n",
       "2      0  STON/O2. 3101282   7.9250   NaN        S  \n",
       "3      0            113803  53.1000  C123        S  \n",
       "4      0            373450   8.0500   NaN        S  "
      ]
     },
     "execution_count": 2,
     "metadata": {},
     "output_type": "execute_result"
    }
   ],
   "source": [
    "train_data = pd.read_csv(\"./titanic/train.csv\")\n",
    "test_data = pd.read_csv(\"./titanic/test.csv\")\n",
    "train_data.head()"
   ]
  },
  {
   "cell_type": "code",
   "execution_count": 3,
   "metadata": {},
   "outputs": [
    {
     "data": {
      "text/plain": [
       "Index(['PassengerId', 'Survived', 'Pclass', 'Name', 'Sex', 'Age', 'SibSp',\n",
       "       'Parch', 'Ticket', 'Fare', 'Cabin', 'Embarked'],\n",
       "      dtype='object')"
      ]
     },
     "execution_count": 3,
     "metadata": {},
     "output_type": "execute_result"
    }
   ],
   "source": [
    "train_data.columns"
   ]
  },
  {
   "cell_type": "markdown",
   "metadata": {},
   "source": [
    "## 데이터셋 만들기"
   ]
  },
  {
   "cell_type": "code",
   "execution_count": 4,
   "metadata": {},
   "outputs": [],
   "source": [
    "features = [\"Pclass\", \"Sex\", \"SibSp\", \"Parch\"]\n",
    "X_train = train_data[features]\n",
    "Y_train = train_data[\"Survived\"]\n",
    "x_test = test_data[features]"
   ]
  },
  {
   "cell_type": "code",
   "execution_count": 5,
   "metadata": {},
   "outputs": [],
   "source": [
    "X_train = pd.get_dummies(X_train)\n",
    "x_test = pd.get_dummies(x_test)"
   ]
  },
  {
   "cell_type": "code",
   "execution_count": 6,
   "metadata": {},
   "outputs": [],
   "source": [
    "from sklearn.model_selection import train_test_split\n",
    "\n",
    "# train_test_split\n",
    "x_train, x_valid, y_train, y_valid = train_test_split(X_train, Y_train, test_size=0.2, stratify=Y_train, random_state=22)"
   ]
  },
  {
   "cell_type": "markdown",
   "metadata": {},
   "source": [
    "x_train['Sex'] = x_train['Sex'].map( {'female': 1, 'male': 0} )\n",
    "x_test['Sex'] = x_test['Sex'].map( {'female': 1, 'male': 0} )"
   ]
  },
  {
   "cell_type": "markdown",
   "metadata": {},
   "source": [
    "## 모델 학습"
   ]
  },
  {
   "cell_type": "markdown",
   "metadata": {},
   "source": [
    "#### RandomForestClassifier"
   ]
  },
  {
   "cell_type": "code",
   "execution_count": 7,
   "metadata": {
    "_kg_hide-output": false
   },
   "outputs": [
    {
     "data": {
      "text/plain": [
       "0.8044692737430168"
      ]
     },
     "execution_count": 7,
     "metadata": {},
     "output_type": "execute_result"
    }
   ],
   "source": [
    "from sklearn.ensemble import RandomForestClassifier\n",
    "\n",
    "rfmodel = RandomForestClassifier(n_estimators=100, max_depth=5, random_state=1)\n",
    "rfmodel.fit(x_train, y_train)\n",
    "rfmodel.score(x_valid, y_valid)"
   ]
  },
  {
   "cell_type": "markdown",
   "metadata": {},
   "source": [
    "#### LGBMClassifier"
   ]
  },
  {
   "cell_type": "code",
   "execution_count": 8,
   "metadata": {},
   "outputs": [
    {
     "name": "stdout",
     "output_type": "stream",
     "text": [
      "[1]\tvalid_0's auc: 0.853953\tvalid_0's binary_logloss: 0.625293\n",
      "Training until validation scores don't improve for 100 rounds\n",
      "[2]\tvalid_0's auc: 0.853953\tvalid_0's binary_logloss: 0.592298\n",
      "[3]\tvalid_0's auc: 0.853953\tvalid_0's binary_logloss: 0.565443\n",
      "[4]\tvalid_0's auc: 0.853953\tvalid_0's binary_logloss: 0.543275\n",
      "[5]\tvalid_0's auc: 0.855731\tvalid_0's binary_logloss: 0.523451\n",
      "[6]\tvalid_0's auc: 0.856785\tvalid_0's binary_logloss: 0.50643\n",
      "[7]\tvalid_0's auc: 0.857839\tvalid_0's binary_logloss: 0.492187\n",
      "[8]\tvalid_0's auc: 0.861001\tvalid_0's binary_logloss: 0.480001\n",
      "[9]\tvalid_0's auc: 0.85863\tvalid_0's binary_logloss: 0.470512\n",
      "[10]\tvalid_0's auc: 0.861001\tvalid_0's binary_logloss: 0.461388\n",
      "[11]\tvalid_0's auc: 0.85863\tvalid_0's binary_logloss: 0.45449\n",
      "[12]\tvalid_0's auc: 0.854677\tvalid_0's binary_logloss: 0.448653\n",
      "[13]\tvalid_0's auc: 0.858103\tvalid_0's binary_logloss: 0.44254\n",
      "[14]\tvalid_0's auc: 0.858169\tvalid_0's binary_logloss: 0.437311\n",
      "[15]\tvalid_0's auc: 0.859223\tvalid_0's binary_logloss: 0.432655\n",
      "[16]\tvalid_0's auc: 0.859354\tvalid_0's binary_logloss: 0.429117\n",
      "[17]\tvalid_0's auc: 0.85639\tvalid_0's binary_logloss: 0.425773\n",
      "[18]\tvalid_0's auc: 0.855863\tvalid_0's binary_logloss: 0.422855\n",
      "[19]\tvalid_0's auc: 0.855863\tvalid_0's binary_logloss: 0.420535\n",
      "[20]\tvalid_0's auc: 0.85751\tvalid_0's binary_logloss: 0.419739\n",
      "[21]\tvalid_0's auc: 0.856588\tvalid_0's binary_logloss: 0.419196\n",
      "[22]\tvalid_0's auc: 0.856588\tvalid_0's binary_logloss: 0.41886\n",
      "[23]\tvalid_0's auc: 0.856258\tvalid_0's binary_logloss: 0.419462\n",
      "[24]\tvalid_0's auc: 0.856522\tvalid_0's binary_logloss: 0.419414\n",
      "[25]\tvalid_0's auc: 0.850593\tvalid_0's binary_logloss: 0.420053\n",
      "[26]\tvalid_0's auc: 0.849802\tvalid_0's binary_logloss: 0.420804\n",
      "[27]\tvalid_0's auc: 0.84888\tvalid_0's binary_logloss: 0.421825\n",
      "[28]\tvalid_0's auc: 0.848682\tvalid_0's binary_logloss: 0.422083\n",
      "[29]\tvalid_0's auc: 0.849473\tvalid_0's binary_logloss: 0.422386\n",
      "[30]\tvalid_0's auc: 0.849473\tvalid_0's binary_logloss: 0.423409\n",
      "[31]\tvalid_0's auc: 0.849078\tvalid_0's binary_logloss: 0.423731\n",
      "[32]\tvalid_0's auc: 0.848946\tvalid_0's binary_logloss: 0.423692\n",
      "[33]\tvalid_0's auc: 0.847233\tvalid_0's binary_logloss: 0.424067\n",
      "[34]\tvalid_0's auc: 0.846047\tvalid_0's binary_logloss: 0.424454\n",
      "[35]\tvalid_0's auc: 0.84697\tvalid_0's binary_logloss: 0.424767\n",
      "[36]\tvalid_0's auc: 0.846838\tvalid_0's binary_logloss: 0.425159\n",
      "[37]\tvalid_0's auc: 0.841963\tvalid_0's binary_logloss: 0.427906\n",
      "[38]\tvalid_0's auc: 0.841568\tvalid_0's binary_logloss: 0.42787\n",
      "[39]\tvalid_0's auc: 0.841568\tvalid_0's binary_logloss: 0.428225\n",
      "[40]\tvalid_0's auc: 0.841173\tvalid_0's binary_logloss: 0.428566\n",
      "[41]\tvalid_0's auc: 0.839196\tvalid_0's binary_logloss: 0.428603\n",
      "[42]\tvalid_0's auc: 0.839065\tvalid_0's binary_logloss: 0.428727\n",
      "[43]\tvalid_0's auc: 0.838669\tvalid_0's binary_logloss: 0.431653\n",
      "[44]\tvalid_0's auc: 0.839328\tvalid_0's binary_logloss: 0.431818\n",
      "[45]\tvalid_0's auc: 0.838669\tvalid_0's binary_logloss: 0.434165\n",
      "[46]\tvalid_0's auc: 0.838406\tvalid_0's binary_logloss: 0.434312\n",
      "[47]\tvalid_0's auc: 0.838406\tvalid_0's binary_logloss: 0.434418\n",
      "[48]\tvalid_0's auc: 0.838406\tvalid_0's binary_logloss: 0.434631\n",
      "[49]\tvalid_0's auc: 0.838406\tvalid_0's binary_logloss: 0.434959\n",
      "[50]\tvalid_0's auc: 0.838406\tvalid_0's binary_logloss: 0.435174\n",
      "[51]\tvalid_0's auc: 0.838406\tvalid_0's binary_logloss: 0.437335\n",
      "[52]\tvalid_0's auc: 0.838011\tvalid_0's binary_logloss: 0.43936\n",
      "[53]\tvalid_0's auc: 0.838406\tvalid_0's binary_logloss: 0.439246\n",
      "[54]\tvalid_0's auc: 0.835244\tvalid_0's binary_logloss: 0.440864\n",
      "[55]\tvalid_0's auc: 0.834848\tvalid_0's binary_logloss: 0.440958\n",
      "[56]\tvalid_0's auc: 0.834848\tvalid_0's binary_logloss: 0.442753\n",
      "[57]\tvalid_0's auc: 0.834848\tvalid_0's binary_logloss: 0.444417\n",
      "[58]\tvalid_0's auc: 0.83643\tvalid_0's binary_logloss: 0.444414\n",
      "[59]\tvalid_0's auc: 0.836693\tvalid_0's binary_logloss: 0.445733\n",
      "[60]\tvalid_0's auc: 0.836561\tvalid_0's binary_logloss: 0.445865\n",
      "[61]\tvalid_0's auc: 0.836693\tvalid_0's binary_logloss: 0.447102\n",
      "[62]\tvalid_0's auc: 0.836561\tvalid_0's binary_logloss: 0.447411\n",
      "[63]\tvalid_0's auc: 0.836693\tvalid_0's binary_logloss: 0.448565\n",
      "[64]\tvalid_0's auc: 0.836693\tvalid_0's binary_logloss: 0.448655\n",
      "[65]\tvalid_0's auc: 0.836561\tvalid_0's binary_logloss: 0.449728\n",
      "[66]\tvalid_0's auc: 0.836561\tvalid_0's binary_logloss: 0.450591\n",
      "[67]\tvalid_0's auc: 0.836561\tvalid_0's binary_logloss: 0.451466\n",
      "[68]\tvalid_0's auc: 0.836561\tvalid_0's binary_logloss: 0.451525\n",
      "[69]\tvalid_0's auc: 0.83643\tvalid_0's binary_logloss: 0.452272\n",
      "[70]\tvalid_0's auc: 0.83643\tvalid_0's binary_logloss: 0.453987\n",
      "[71]\tvalid_0's auc: 0.83643\tvalid_0's binary_logloss: 0.454192\n",
      "[72]\tvalid_0's auc: 0.836693\tvalid_0's binary_logloss: 0.455788\n",
      "[73]\tvalid_0's auc: 0.837352\tvalid_0's binary_logloss: 0.456418\n",
      "[74]\tvalid_0's auc: 0.836034\tvalid_0's binary_logloss: 0.456889\n",
      "[75]\tvalid_0's auc: 0.836561\tvalid_0's binary_logloss: 0.457555\n",
      "[76]\tvalid_0's auc: 0.836034\tvalid_0's binary_logloss: 0.458187\n",
      "[77]\tvalid_0's auc: 0.835639\tvalid_0's binary_logloss: 0.458761\n",
      "[78]\tvalid_0's auc: 0.835639\tvalid_0's binary_logloss: 0.458662\n",
      "[79]\tvalid_0's auc: 0.835639\tvalid_0's binary_logloss: 0.458695\n",
      "[80]\tvalid_0's auc: 0.835639\tvalid_0's binary_logloss: 0.459177\n",
      "[81]\tvalid_0's auc: 0.835375\tvalid_0's binary_logloss: 0.459551\n",
      "[82]\tvalid_0's auc: 0.835375\tvalid_0's binary_logloss: 0.460055\n",
      "[83]\tvalid_0's auc: 0.835639\tvalid_0's binary_logloss: 0.461777\n",
      "[84]\tvalid_0's auc: 0.835639\tvalid_0's binary_logloss: 0.462172\n",
      "[85]\tvalid_0's auc: 0.835507\tvalid_0's binary_logloss: 0.462308\n",
      "[86]\tvalid_0's auc: 0.83498\tvalid_0's binary_logloss: 0.462607\n",
      "[87]\tvalid_0's auc: 0.833399\tvalid_0's binary_logloss: 0.464048\n",
      "[88]\tvalid_0's auc: 0.833399\tvalid_0's binary_logloss: 0.464116\n",
      "[89]\tvalid_0's auc: 0.833399\tvalid_0's binary_logloss: 0.464363\n",
      "[90]\tvalid_0's auc: 0.833399\tvalid_0's binary_logloss: 0.46466\n",
      "[91]\tvalid_0's auc: 0.833004\tvalid_0's binary_logloss: 0.464915\n",
      "[92]\tvalid_0's auc: 0.833004\tvalid_0's binary_logloss: 0.465124\n",
      "[93]\tvalid_0's auc: 0.83274\tvalid_0's binary_logloss: 0.465937\n",
      "[94]\tvalid_0's auc: 0.833136\tvalid_0's binary_logloss: 0.466799\n",
      "[95]\tvalid_0's auc: 0.833004\tvalid_0's binary_logloss: 0.467574\n",
      "[96]\tvalid_0's auc: 0.833267\tvalid_0's binary_logloss: 0.468266\n",
      "[97]\tvalid_0's auc: 0.83498\tvalid_0's binary_logloss: 0.469217\n",
      "[98]\tvalid_0's auc: 0.83498\tvalid_0's binary_logloss: 0.469391\n",
      "[99]\tvalid_0's auc: 0.834848\tvalid_0's binary_logloss: 0.469907\n",
      "[100]\tvalid_0's auc: 0.834848\tvalid_0's binary_logloss: 0.470152\n",
      "[101]\tvalid_0's auc: 0.834848\tvalid_0's binary_logloss: 0.470801\n",
      "[102]\tvalid_0's auc: 0.834453\tvalid_0's binary_logloss: 0.471082\n",
      "[103]\tvalid_0's auc: 0.834453\tvalid_0's binary_logloss: 0.471663\n",
      "[104]\tvalid_0's auc: 0.827339\tvalid_0's binary_logloss: 0.472203\n",
      "[105]\tvalid_0's auc: 0.834321\tvalid_0's binary_logloss: 0.472344\n",
      "[106]\tvalid_0's auc: 0.827339\tvalid_0's binary_logloss: 0.472611\n",
      "[107]\tvalid_0's auc: 0.834321\tvalid_0's binary_logloss: 0.473144\n",
      "[108]\tvalid_0's auc: 0.834453\tvalid_0's binary_logloss: 0.473302\n",
      "Early stopping, best iteration is:\n",
      "[8]\tvalid_0's auc: 0.861001\tvalid_0's binary_logloss: 0.480001\n"
     ]
    },
    {
     "data": {
      "text/plain": [
       "0.8435754189944135"
      ]
     },
     "execution_count": 8,
     "metadata": {},
     "output_type": "execute_result"
    }
   ],
   "source": [
    "from lightgbm import LGBMClassifier\n",
    "\n",
    "lgbm = LGBMClassifier(n_estimators=200, learning_rate = 0.1)\n",
    "evals = [(x_valid, y_valid)]\n",
    "lgbm.fit(x_train, y_train, early_stopping_rounds=100, eval_metric='auc', eval_set=evals, verbose=True)\n",
    "lgbm.score(x_valid, y_valid)"
   ]
  },
  {
   "cell_type": "markdown",
   "metadata": {},
   "source": [
    "#### ExtraTreesClassifier"
   ]
  },
  {
   "cell_type": "code",
   "execution_count": 9,
   "metadata": {},
   "outputs": [
    {
     "data": {
      "text/plain": [
       "0.7988826815642458"
      ]
     },
     "execution_count": 9,
     "metadata": {},
     "output_type": "execute_result"
    }
   ],
   "source": [
    "from sklearn.ensemble import ExtraTreesClassifier\n",
    "etree = ExtraTreesClassifier(n_estimators=100, max_depth=5, random_state=1)\n",
    "etree.fit(x_train, y_train)\n",
    "etree.score(x_valid, y_valid)"
   ]
  },
  {
   "cell_type": "markdown",
   "metadata": {},
   "source": [
    "#### GradientBoostingClassifier"
   ]
  },
  {
   "cell_type": "code",
   "execution_count": 10,
   "metadata": {},
   "outputs": [
    {
     "data": {
      "text/plain": [
       "0.7877094972067039"
      ]
     },
     "execution_count": 10,
     "metadata": {},
     "output_type": "execute_result"
    }
   ],
   "source": [
    "from sklearn.ensemble import GradientBoostingClassifier\n",
    "gboost = GradientBoostingClassifier()\n",
    "gboost.fit(x_train, y_train)\n",
    "gboost.score(x_valid, y_valid)"
   ]
  },
  {
   "cell_type": "markdown",
   "metadata": {},
   "source": [
    "### Voting"
   ]
  },
  {
   "cell_type": "code",
   "execution_count": 11,
   "metadata": {},
   "outputs": [],
   "source": [
    "from sklearn.ensemble import VotingClassifier\n",
    "\n",
    "votingC = VotingClassifier(estimators=[('rfc', rfmodel), ('lgbc', lgbm), ('extc', etree), ('gbc',gboost)], voting='soft', n_jobs=4)\n",
    "\n",
    "votingC = votingC.fit(X_train, Y_train)"
   ]
  },
  {
   "cell_type": "markdown",
   "metadata": {},
   "source": [
    "## 예측 및 제출"
   ]
  },
  {
   "cell_type": "code",
   "execution_count": 12,
   "metadata": {},
   "outputs": [
    {
     "data": {
      "text/plain": [
       "array([0, 1, 0, 0, 1, 0, 1, 0, 1, 0, 0, 0, 1, 0, 1, 1, 0, 0, 1, 1, 0, 0,\n",
       "       1, 0, 1, 0, 1, 0, 0, 0, 0, 0, 0, 0, 0, 0, 1, 1, 0, 0, 0, 0, 0, 1,\n",
       "       1, 0, 0, 0, 1, 1, 0, 0, 1, 1, 0, 0, 0, 0, 0, 1, 0, 0, 0, 1, 1, 1,\n",
       "       1, 0, 0, 1, 1, 0, 1, 0, 1, 0, 0, 1, 0, 1, 0, 0, 0, 0, 0, 0, 1, 1,\n",
       "       1, 0, 1, 0, 1, 0, 0, 0, 1, 0, 1, 0, 1, 0, 0, 0, 1, 0, 0, 0, 0, 0,\n",
       "       0, 1, 1, 1, 1, 0, 0, 1, 0, 1, 1, 0, 1, 0, 0, 1, 0, 1, 0, 0, 0, 0,\n",
       "       0, 0, 0, 0, 0, 0, 1, 0, 0, 1, 0, 0, 0, 0, 0, 0, 0, 0, 1, 0, 0, 1,\n",
       "       0, 0, 1, 1, 0, 1, 1, 0, 1, 0, 0, 1, 0, 0, 1, 1, 0, 0, 0, 0, 0, 1,\n",
       "       1, 0, 1, 1, 0, 0, 1, 0, 1, 0, 1, 0, 0, 0, 0, 0, 0, 0, 1, 0, 1, 1,\n",
       "       0, 1, 1, 0, 0, 1, 0, 0, 1, 0, 1, 0, 0, 0, 0, 1, 0, 0, 1, 0, 1, 0,\n",
       "       1, 0, 1, 0, 1, 1, 0, 1, 0, 0, 0, 1, 0, 0, 0, 0, 0, 0, 1, 1, 1, 1,\n",
       "       0, 0, 0, 0, 1, 0, 1, 1, 1, 0, 0, 0, 0, 0, 0, 0, 1, 0, 0, 0, 1, 1,\n",
       "       0, 0, 0, 0, 1, 0, 0, 0, 1, 1, 0, 1, 0, 0, 0, 0, 1, 0, 1, 1, 1, 0,\n",
       "       0, 0, 0, 0, 0, 1, 0, 0, 0, 0, 1, 0, 0, 0, 0, 0, 0, 0, 1, 1, 1, 0,\n",
       "       0, 1, 0, 0, 0, 1, 1, 1, 0, 0, 0, 0, 0, 0, 0, 0, 1, 0, 1, 0, 0, 0,\n",
       "       1, 0, 0, 1, 0, 0, 0, 0, 0, 0, 0, 0, 0, 1, 0, 1, 0, 1, 0, 1, 1, 0,\n",
       "       0, 0, 0, 0, 1, 0, 0, 1, 0, 1, 1, 0, 1, 0, 0, 1, 1, 0, 0, 1, 0, 0,\n",
       "       1, 1, 1, 0, 0, 0, 0, 0, 1, 1, 0, 1, 0, 0, 0, 0, 0, 1, 0, 0, 0, 1,\n",
       "       0, 1, 0, 0, 1, 0, 1, 0, 0, 0, 0, 0, 1, 1, 1, 1, 1, 0, 1, 0, 0, 0],\n",
       "      dtype=int64)"
      ]
     },
     "execution_count": 12,
     "metadata": {},
     "output_type": "execute_result"
    }
   ],
   "source": [
    "predictions = votingC.predict(x_test)\n",
    "predictions"
   ]
  },
  {
   "cell_type": "code",
   "execution_count": 13,
   "metadata": {},
   "outputs": [
    {
     "data": {
      "text/html": [
       "<div>\n",
       "<style scoped>\n",
       "    .dataframe tbody tr th:only-of-type {\n",
       "        vertical-align: middle;\n",
       "    }\n",
       "\n",
       "    .dataframe tbody tr th {\n",
       "        vertical-align: top;\n",
       "    }\n",
       "\n",
       "    .dataframe thead th {\n",
       "        text-align: right;\n",
       "    }\n",
       "</style>\n",
       "<table border=\"1\" class=\"dataframe\">\n",
       "  <thead>\n",
       "    <tr style=\"text-align: right;\">\n",
       "      <th></th>\n",
       "      <th>PassengerId</th>\n",
       "      <th>Survived</th>\n",
       "    </tr>\n",
       "  </thead>\n",
       "  <tbody>\n",
       "    <tr>\n",
       "      <th>0</th>\n",
       "      <td>892</td>\n",
       "      <td>0</td>\n",
       "    </tr>\n",
       "    <tr>\n",
       "      <th>1</th>\n",
       "      <td>893</td>\n",
       "      <td>1</td>\n",
       "    </tr>\n",
       "    <tr>\n",
       "      <th>2</th>\n",
       "      <td>894</td>\n",
       "      <td>0</td>\n",
       "    </tr>\n",
       "    <tr>\n",
       "      <th>3</th>\n",
       "      <td>895</td>\n",
       "      <td>0</td>\n",
       "    </tr>\n",
       "    <tr>\n",
       "      <th>4</th>\n",
       "      <td>896</td>\n",
       "      <td>1</td>\n",
       "    </tr>\n",
       "    <tr>\n",
       "      <th>...</th>\n",
       "      <td>...</td>\n",
       "      <td>...</td>\n",
       "    </tr>\n",
       "    <tr>\n",
       "      <th>413</th>\n",
       "      <td>1305</td>\n",
       "      <td>0</td>\n",
       "    </tr>\n",
       "    <tr>\n",
       "      <th>414</th>\n",
       "      <td>1306</td>\n",
       "      <td>1</td>\n",
       "    </tr>\n",
       "    <tr>\n",
       "      <th>415</th>\n",
       "      <td>1307</td>\n",
       "      <td>0</td>\n",
       "    </tr>\n",
       "    <tr>\n",
       "      <th>416</th>\n",
       "      <td>1308</td>\n",
       "      <td>0</td>\n",
       "    </tr>\n",
       "    <tr>\n",
       "      <th>417</th>\n",
       "      <td>1309</td>\n",
       "      <td>0</td>\n",
       "    </tr>\n",
       "  </tbody>\n",
       "</table>\n",
       "<p>418 rows × 2 columns</p>\n",
       "</div>"
      ],
      "text/plain": [
       "     PassengerId  Survived\n",
       "0            892         0\n",
       "1            893         1\n",
       "2            894         0\n",
       "3            895         0\n",
       "4            896         1\n",
       "..           ...       ...\n",
       "413         1305         0\n",
       "414         1306         1\n",
       "415         1307         0\n",
       "416         1308         0\n",
       "417         1309         0\n",
       "\n",
       "[418 rows x 2 columns]"
      ]
     },
     "execution_count": 13,
     "metadata": {},
     "output_type": "execute_result"
    }
   ],
   "source": [
    "submit = pd.read_csv(\"./titanic/gender_submission.csv\")\n",
    "submit"
   ]
  },
  {
   "cell_type": "code",
   "execution_count": 14,
   "metadata": {},
   "outputs": [
    {
     "data": {
      "text/html": [
       "<div>\n",
       "<style scoped>\n",
       "    .dataframe tbody tr th:only-of-type {\n",
       "        vertical-align: middle;\n",
       "    }\n",
       "\n",
       "    .dataframe tbody tr th {\n",
       "        vertical-align: top;\n",
       "    }\n",
       "\n",
       "    .dataframe thead th {\n",
       "        text-align: right;\n",
       "    }\n",
       "</style>\n",
       "<table border=\"1\" class=\"dataframe\">\n",
       "  <thead>\n",
       "    <tr style=\"text-align: right;\">\n",
       "      <th></th>\n",
       "      <th>PassengerId</th>\n",
       "      <th>Survived</th>\n",
       "    </tr>\n",
       "  </thead>\n",
       "  <tbody>\n",
       "    <tr>\n",
       "      <th>0</th>\n",
       "      <td>892</td>\n",
       "      <td>0</td>\n",
       "    </tr>\n",
       "    <tr>\n",
       "      <th>1</th>\n",
       "      <td>893</td>\n",
       "      <td>1</td>\n",
       "    </tr>\n",
       "    <tr>\n",
       "      <th>2</th>\n",
       "      <td>894</td>\n",
       "      <td>0</td>\n",
       "    </tr>\n",
       "    <tr>\n",
       "      <th>3</th>\n",
       "      <td>895</td>\n",
       "      <td>0</td>\n",
       "    </tr>\n",
       "    <tr>\n",
       "      <th>4</th>\n",
       "      <td>896</td>\n",
       "      <td>1</td>\n",
       "    </tr>\n",
       "    <tr>\n",
       "      <th>...</th>\n",
       "      <td>...</td>\n",
       "      <td>...</td>\n",
       "    </tr>\n",
       "    <tr>\n",
       "      <th>413</th>\n",
       "      <td>1305</td>\n",
       "      <td>0</td>\n",
       "    </tr>\n",
       "    <tr>\n",
       "      <th>414</th>\n",
       "      <td>1306</td>\n",
       "      <td>1</td>\n",
       "    </tr>\n",
       "    <tr>\n",
       "      <th>415</th>\n",
       "      <td>1307</td>\n",
       "      <td>0</td>\n",
       "    </tr>\n",
       "    <tr>\n",
       "      <th>416</th>\n",
       "      <td>1308</td>\n",
       "      <td>0</td>\n",
       "    </tr>\n",
       "    <tr>\n",
       "      <th>417</th>\n",
       "      <td>1309</td>\n",
       "      <td>0</td>\n",
       "    </tr>\n",
       "  </tbody>\n",
       "</table>\n",
       "<p>418 rows × 2 columns</p>\n",
       "</div>"
      ],
      "text/plain": [
       "     PassengerId  Survived\n",
       "0            892         0\n",
       "1            893         1\n",
       "2            894         0\n",
       "3            895         0\n",
       "4            896         1\n",
       "..           ...       ...\n",
       "413         1305         0\n",
       "414         1306         1\n",
       "415         1307         0\n",
       "416         1308         0\n",
       "417         1309         0\n",
       "\n",
       "[418 rows x 2 columns]"
      ]
     },
     "execution_count": 14,
     "metadata": {},
     "output_type": "execute_result"
    }
   ],
   "source": [
    "submit['Survived'] = predictions\n",
    "submit"
   ]
  },
  {
   "cell_type": "code",
   "execution_count": null,
   "metadata": {},
   "outputs": [],
   "source": [
    "submit.to_csv('submission1.csv', index=False)"
   ]
  },
  {
   "cell_type": "code",
   "execution_count": null,
   "metadata": {},
   "outputs": [],
   "source": []
  }
 ],
 "metadata": {
  "kernelspec": {
   "display_name": "Python 3",
   "language": "python",
   "name": "python3"
  },
  "language_info": {
   "codemirror_mode": {
    "name": "ipython",
    "version": 3
   },
   "file_extension": ".py",
   "mimetype": "text/x-python",
   "name": "python",
   "nbconvert_exporter": "python",
   "pygments_lexer": "ipython3",
   "version": "3.8.3"
  }
 },
 "nbformat": 4,
 "nbformat_minor": 4
}
