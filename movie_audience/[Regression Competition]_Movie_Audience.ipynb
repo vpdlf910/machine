{
 "cells": [
  {
   "cell_type": "code",
   "execution_count": null,
   "id": "2bbd9598-a46b-4c4e-96b7-8f8303525dd7",
   "metadata": {},
   "outputs": [],
   "source": [
    "import pandas as pd\n",
    "import numpy as np\n",
    "import matplotlib.pyplot as plt\n",
    "import seaborn as sns\n",
    "from sklearn.metrics import mean_squared_error, mean_absolute_error, r2_score\n",
    "import warnings\n",
    "warnings.filterwarnings(action='ignore') "
   ]
  },
  {
   "cell_type": "markdown",
   "id": "20c0904b-1cd4-4c16-8ba1-6489413f5ee0",
   "metadata": {},
   "source": [
    "### x_test는 실제 답지 작성에 사용\n",
    "============================= 데이터 전처리, 모델 작성 등 자유롭게 하세요 =================================="
   ]
  },
  {
   "cell_type": "code",
   "execution_count": null,
   "id": "c7866d20-d3f3-438d-84d9-101799c123bd",
   "metadata": {},
   "outputs": [],
   "source": [
    "# 데이터 read\n",
    "\n",
    "x_train = pd.read_csv('movies_train.csv')\n",
    "y_train = x_train['box_off_num']\n",
    "\n",
    "x_test = pd.read_csv('movies_test.csv')"
   ]
  },
  {
   "cell_type": "code",
   "execution_count": null,
   "id": "3441b476-451b-4306-aa93-f30b242ac063",
   "metadata": {},
   "outputs": [],
   "source": []
  },
  {
   "cell_type": "code",
   "execution_count": null,
   "id": "68d0fc6f-9f17-4ca2-892b-e96f75d1f262",
   "metadata": {},
   "outputs": [],
   "source": []
  },
  {
   "cell_type": "code",
   "execution_count": null,
   "id": "62a7d7cb-8ec7-4634-95bc-4e57909ed16c",
   "metadata": {},
   "outputs": [],
   "source": []
  },
  {
   "cell_type": "code",
   "execution_count": null,
   "id": "f1f406eb-fa6e-4d42-9f59-9e316347be11",
   "metadata": {},
   "outputs": [],
   "source": []
  },
  {
   "cell_type": "code",
   "execution_count": null,
   "id": "f5ae0b11-2b49-4837-a976-9bf152e3a22f",
   "metadata": {},
   "outputs": [],
   "source": []
  },
  {
   "cell_type": "markdown",
   "id": "f857d9ad-88cb-4a39-a6dc-0e7bb6920aef",
   "metadata": {},
   "source": [
    "## 모델 작성 및 성능 평가\n",
    "### RMSE로 평가"
   ]
  },
  {
   "cell_type": "code",
   "execution_count": null,
   "id": "e5d90460-abd3-4e83-86e3-f3a412025c32",
   "metadata": {},
   "outputs": [],
   "source": [
    "from sklearn.model_selection import cross_val_score, train_test_split, KFold\n",
    "from sklearn.metrics import mean_squared_error, make_scorer\n",
    "from sklearn.ensemble import RandomForestRegressor"
   ]
  },
  {
   "cell_type": "code",
   "execution_count": null,
   "id": "5983a057-ca9a-4cc2-bb07-d795fe3fd66c",
   "metadata": {},
   "outputs": [],
   "source": [
    "# 평가 함수 정의\n",
    "\n",
    "n_folds = 4\n",
    "\n",
    "def rmse_cv(model):\n",
    "    kf = KFold(n_folds, shuffle=True, random_state=42).get_n_splits(x_train.values)\n",
    "    rmse= np.sqrt(-cross_val_score(model, x_train.values, y_train, scoring=\"neg_mean_squared_error\", cv = kf))\n",
    "    return(rmse)"
   ]
  },
  {
   "cell_type": "markdown",
   "id": "c5707833-34e9-47d8-82dc-5e1cdad1755c",
   "metadata": {},
   "source": [
    "### 임시모델 RandomForestRegressor\n",
    "================================ 모델은 예시일뿐 자유롭게 변경 하세요 ================================="
   ]
  },
  {
   "cell_type": "code",
   "execution_count": null,
   "id": "a12e6098-ac6c-4cba-86d1-928be69c8e95",
   "metadata": {},
   "outputs": [],
   "source": [
    "model = RandomForestRegressor()"
   ]
  },
  {
   "cell_type": "code",
   "execution_count": null,
   "id": "42505b32-6c03-4e44-8dce-b8c5ad6dd17b",
   "metadata": {},
   "outputs": [],
   "source": [
    "# score 확인\n",
    "\n",
    "score = rmse_cv(model)\n",
    "rf_score = score.mean()\n",
    "rf_score"
   ]
  },
  {
   "cell_type": "code",
   "execution_count": null,
   "id": "470a411b-7e7f-4f77-863f-242a86c1431c",
   "metadata": {},
   "outputs": [],
   "source": [
    "# 모델 훈련\n",
    "\n",
    "model.fit(x_train, y_train)"
   ]
  },
  {
   "cell_type": "markdown",
   "id": "76358011-c006-4915-98f1-0d32bf4515ad",
   "metadata": {},
   "source": [
    "## 제출 파일 만들기\n",
    "### 완성된 csv파일을 dacon에 제출"
   ]
  },
  {
   "cell_type": "code",
   "execution_count": null,
   "id": "ec92a15b-c9d3-4513-b219-d436e0cc9f0d",
   "metadata": {},
   "outputs": [],
   "source": [
    "# 예측\n",
    "pred = model.predict(x_test)"
   ]
  },
  {
   "cell_type": "code",
   "execution_count": null,
   "id": "6db9ec3d-8c97-4811-adf0-3eb7e483dbde",
   "metadata": {
    "tags": []
   },
   "outputs": [],
   "source": [
    "# 제출 파일 만들기\n",
    "submission = pd.read_csv(\"submission.csv\")\n",
    "\n",
    "submission['box_off_num'] = pred\n",
    "# 만들어진 파일 확인\n",
    "submission.head(3)"
   ]
  },
  {
   "cell_type": "code",
   "execution_count": null,
   "id": "38279d0d-2738-4d4d-9afb-fca5d6cae74e",
   "metadata": {},
   "outputs": [],
   "source": [
    "# result 폴더 안에 저장\n",
    "\n",
    "submission.to_csv(\"./result/result_1.csv\")"
   ]
  }
 ],
 "metadata": {
  "kernelspec": {
   "display_name": "Python 3",
   "language": "python",
   "name": "python3"
  },
  "language_info": {
   "codemirror_mode": {
    "name": "ipython",
    "version": 3
   },
   "file_extension": ".py",
   "mimetype": "text/x-python",
   "name": "python",
   "nbconvert_exporter": "python",
   "pygments_lexer": "ipython3",
   "version": "3.8.8"
  }
 },
 "nbformat": 4,
 "nbformat_minor": 5
}
